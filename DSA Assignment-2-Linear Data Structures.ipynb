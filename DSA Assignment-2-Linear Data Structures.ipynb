{
 "cells": [
  {
   "cell_type": "markdown",
   "id": "7eb2ba93",
   "metadata": {},
   "source": [
    "1.Write Linear Search Algorithm"
   ]
  },
  {
   "cell_type": "code",
   "execution_count": null,
   "id": "073329ec",
   "metadata": {},
   "outputs": [],
   "source": [
    "#Algorithm\n",
    "\n",
    "Linear Search ( Array A, Value x)\n",
    "\n",
    "Step 1: Set i to 1\n",
    "Step 2: if i > n then go to step 7\n",
    "Step 3: if A[i] = x then go to step 6\n",
    "Step 4: Set i to i + 1\n",
    "Step 5: Go to Step 2\n",
    "Step 6: Print Element x Found at index i and go to step 8\n",
    "Step 7: Print element not found\n",
    "Step 8: Exit\n",
    "    \n",
    "#Pseudocode\n",
    "\n",
    "procedure linear_search (list, value)\n",
    "\n",
    "   for each item in the list\n",
    "      if match item == value\n",
    "         return the item's location\n",
    "      end if\n",
    "   end for\n",
    "\n",
    "end procedure"
   ]
  },
  {
   "cell_type": "markdown",
   "id": "e961860a",
   "metadata": {},
   "source": [
    "2.Write Binary Search Algorithm"
   ]
  },
  {
   "cell_type": "code",
   "execution_count": null,
   "id": "9ee133a9",
   "metadata": {},
   "outputs": [],
   "source": [
    "#Algorithm\n",
    "\n",
    "Step 1 - Read the search element from the user.\n",
    "Step 2 - Find the middle element in the sorted list.\n",
    "Step 3 - Compare the search element with the middle element in the sorted list.\n",
    "Step 4 - If both are matched, then display \"Given element is found!!!\" and terminate the function.\n",
    "Step 5 - If both are not matched, then check whether the search element is smaller or larger than the middle element.\n",
    "Step 6 - If the search element is smaller than middle element, repeat steps 2, 3, 4 and 5 for the left sublist of the middle element.\n",
    "Step 7 - If the search element is larger than middle element, repeat steps 2, 3, 4 and 5 for the right sublist of the middle element.\n",
    "Step 8 - Repeat the same process until we find the search element in the list or until sublist contains only one element.\n",
    "Step 9 - If that element also doesn't match with the search element, then display \"Element is not found in the list!!!\" and terminate the function.\n",
    "\n",
    "#Pseudocode\n",
    "\n",
    "Procedure binary_search\n",
    "   A ← sorted array\n",
    "   n ← size of array\n",
    "   x ← value to be searched\n",
    "\n",
    "   Set lowerBound = 1\n",
    "   Set upperBound = n \n",
    "\n",
    "   while x not found\n",
    "      if upperBound < lowerBound \n",
    "         EXIT: x does not exists.\n",
    "   \n",
    "      set midPoint = lowerBound + ( upperBound - lowerBound ) / 2\n",
    "      \n",
    "      if A[midPoint] < x\n",
    "         set lowerBound = midPoint + 1\n",
    "         \n",
    "      if A[midPoint] > x\n",
    "         set upperBound = midPoint - 1 \n",
    "\n",
    "      if A[midPoint] = x \n",
    "         EXIT: x found at location midPoint\n",
    "   end while\n",
    "   \n",
    "end procedure"
   ]
  },
  {
   "cell_type": "markdown",
   "id": "bcc5b3eb",
   "metadata": {},
   "source": [
    "3. Implement a dictionary sort using bubble sort\n"
   ]
  },
  {
   "cell_type": "code",
   "execution_count": 5,
   "id": "b261ef78",
   "metadata": {},
   "outputs": [
    {
     "name": "stdout",
     "output_type": "stream",
     "text": [
      "[43, 54, 67, 73, 87]\n"
     ]
    }
   ],
   "source": [
    "def bubble_sort(k):\n",
    "    for i in range(1,len(k)):\n",
    "        for j in range(len(k)-i):\n",
    "            if k[j]>k[j+1]:\n",
    "                k[j],k[j+1]=k[j+1],k[j]\n",
    "    return k\n",
    "            \n",
    "mydict={\"Tom\":67, \"Tina\": 54, \"Akbar\": 87, \"Kane\": 43, \"Divya\":73}             \n",
    "k=list(mydict.values())\n",
    "print(bubble_sort(k))"
   ]
  },
  {
   "cell_type": "markdown",
   "id": "20b4af0a",
   "metadata": {},
   "source": [
    "4.Sort an array of numbers using insertion sort\n"
   ]
  },
  {
   "cell_type": "code",
   "execution_count": 6,
   "id": "c57462c6",
   "metadata": {},
   "outputs": [
    {
     "name": "stdout",
     "output_type": "stream",
     "text": [
      " 5\n",
      " 6\n",
      " 11\n",
      " 12\n",
      " 13\n"
     ]
    }
   ],
   "source": [
    "def insertionSort(arr):\n",
    "    for i in range(1, len(arr)):\n",
    "        key = arr[i]\n",
    "        j = i-1\n",
    "        while j >= 0 and key < arr[j] :\n",
    "                arr[j + 1] = arr[j]\n",
    "                j -= 1\n",
    "        arr[j + 1] = key\n",
    "\n",
    "arr = [12, 11, 13, 5, 6]\n",
    "insertionSort(arr)\n",
    "for i in range(len(arr)):\n",
    "    print (\"% d\" % arr[i])\n",
    "\n"
   ]
  },
  {
   "cell_type": "markdown",
   "id": "018fab29",
   "metadata": {},
   "source": [
    "5.Sort an array of numbers using selection sort\n"
   ]
  },
  {
   "cell_type": "code",
   "execution_count": 8,
   "id": "5ba96b50",
   "metadata": {},
   "outputs": [
    {
     "name": "stdout",
     "output_type": "stream",
     "text": [
      "Sorted array\n",
      "11\n",
      "12\n",
      "22\n",
      "25\n",
      "64\n"
     ]
    }
   ],
   "source": [
    "import sys\n",
    "A = [64, 25, 12, 22, 11]\n",
    "for i in range(len(A)):\n",
    "    min_idx = i\n",
    "    for j in range(i+1, len(A)):\n",
    "        if A[min_idx] > A[j]:\n",
    "            min_idx = j\n",
    "    A[i], A[min_idx] = A[min_idx], A[i]\n",
    "\n",
    "print (\"Sorted array\")\n",
    "for i in range(len(A)):\n",
    "    print(\"%d\" %A[i])\n"
   ]
  },
  {
   "cell_type": "code",
   "execution_count": null,
   "id": "1e95b1df",
   "metadata": {},
   "outputs": [],
   "source": []
  }
 ],
 "metadata": {
  "kernelspec": {
   "display_name": "Python 3",
   "language": "python",
   "name": "python3"
  },
  "language_info": {
   "codemirror_mode": {
    "name": "ipython",
    "version": 3
   },
   "file_extension": ".py",
   "mimetype": "text/x-python",
   "name": "python",
   "nbconvert_exporter": "python",
   "pygments_lexer": "ipython3",
   "version": "3.9.5"
  }
 },
 "nbformat": 4,
 "nbformat_minor": 5
}
